{
 "cells": [
  {
   "cell_type": "code",
   "execution_count": 9,
   "id": "9045255f-4205-45ec-a763-de46dfc9a238",
   "metadata": {},
   "outputs": [],
   "source": [
    "import pandas as pd\n",
    "import numpy as np\n",
    "import matplotlib.pyplot as plt\n",
    "from sklearn.model_selection import train_test_split\n",
    "from sklearn.linear_model import LinearRegression\n",
    "from sklearn.metrics import r2_score , mean_squared_error\n",
    "\n",
    "df = pd.read_csv(\"Position_Salaries.csv\")\n",
    "x =  np.array(df[['Salary']])\n",
    "y = np.array(df['Level'])"
   ]
  },
  {
   "cell_type": "code",
   "execution_count": null,
   "id": "09fde8cd-4208-4d60-a6df-83c430dc717b",
   "metadata": {},
   "outputs": [],
   "source": [
    "x_train,x_test,y_train,y_test = train_test_split(x,y , test_size = 0.30)\n",
    "\n",
    "regressor = LinearRegression()\n",
    "regressor.fit(x_train,y_train)\n",
    "\n",
    "y_train_pr = regressor.predict(x_train)\n",
    "\n",
    "\n",
    "plt.scatter(x_train,y_train , color=\"blue\")\n",
    "plt.plot(x_train,y_train_pr , color=\"green\")\n",
    "plt.title(\"Regression(Train set)\")\n",
    "plt.xlabel('Level')\n",
    "plt.ylabel('Salary')\n",
    "plt.show()"
   ]
  },
  {
   "cell_type": "code",
   "execution_count": null,
   "id": "71e415ff-1995-4f16-b035-b671c511826b",
   "metadata": {},
   "outputs": [],
   "source": [
    "plt.scatter(x_test,y_test,color=\"blue\")\n",
    "y_pred = regressor.predict(x_test)\n",
    "plt.plot(x_test,y_pred)\n",
    "plt.show()\n",
    "\n",
    "print('R2 score : %.2f' % r2_score(y_test,y_pred))\n",
    "print('Mean Error :',mean_squared_error(y_test,y_pred))"
   ]
  },
  {
   "cell_type": "code",
   "execution_count": null,
   "id": "5ad55a25-2810-4cfe-aa10-f636a7646118",
   "metadata": {},
   "outputs": [],
   "source": [
    "def predict_level(salary):\n",
    "    result = regressor.predict(np.array(salary).reshape(1,-1))\n",
    "    return result[0]\n",
    "\n",
    "for [salary,level] in zip(x,y):\n",
    "    print(\"Salary :\" , salary[0] ,'Actual :',level  , \"Predicted : \", round(predict_level(salary)))"
   ]
  }
 ],
 "metadata": {
  "kernelspec": {
   "display_name": "Python 3 (ipykernel)",
   "language": "python",
   "name": "python3"
  },
  "language_info": {
   "codemirror_mode": {
    "name": "ipython",
    "version": 3
   },
   "file_extension": ".py",
   "mimetype": "text/x-python",
   "name": "python",
   "nbconvert_exporter": "python",
   "pygments_lexer": "ipython3",
   "version": "3.12.0"
  }
 },
 "nbformat": 4,
 "nbformat_minor": 5
}
